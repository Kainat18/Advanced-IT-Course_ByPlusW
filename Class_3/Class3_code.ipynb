{
  "nbformat": 4,
  "nbformat_minor": 0,
  "metadata": {
    "colab": {
      "provenance": []
    },
    "kernelspec": {
      "name": "python3",
      "display_name": "Python 3"
    },
    "language_info": {
      "name": "python"
    }
  },
  "cells": [
    {
      "cell_type": "code",
      "source": [
        "#condtional statements\n",
        "age = int(input(\"Enter your age: \"))\n",
        "if age >= 18:\n",
        "  print(\"You are eligible to vote\") #identation is necessary for conditional statements or wherever you are defining a block of code\n",
        "\n",
        "# print(\"this is not part of if statement so no need for indentation\")"
      ],
      "metadata": {
        "id": "YCQ0QiKcfV9t",
        "colab": {
          "base_uri": "https://localhost:8080/"
        },
        "outputId": "8df03653-6170-490b-e2d5-0342b1eb8786"
      },
      "execution_count": 8,
      "outputs": [
        {
          "name": "stdout",
          "output_type": "stream",
          "text": [
            "Enter your age: 13\n"
          ]
        }
      ]
    },
    {
      "cell_type": "code",
      "source": [
        "#if-else statement\n",
        "age = int(input(\"Enter your age: \"))\n",
        "if age >= 18:\n",
        "  print(\"You are eligible for the vote\")\n",
        "else:\n",
        "  print(\"You are not eligible to vote\")\n"
      ],
      "metadata": {
        "id": "-fO4x3-w4fIA",
        "colab": {
          "base_uri": "https://localhost:8080/"
        },
        "outputId": "71970d40-5a1a-4b12-ae86-c16422d12c3c"
      },
      "execution_count": 6,
      "outputs": [
        {
          "output_type": "stream",
          "name": "stdout",
          "text": [
            "Enter your age: 22\n",
            "You are eligible for the vote\n"
          ]
        }
      ]
    },
    {
      "cell_type": "code",
      "source": [
        "#if else and elif statement\n",
        "marks = 90\n",
        "if marks >=90:\n",
        "  print(\"Grade: A\")\n",
        "elif marks >=80:\n",
        "  print(\"Grade: B\")\n",
        "elif marks >=70:\n",
        "  print(\"Grade: C\")\n",
        "elif marks >=60:\n",
        "  print(\"Grade: D\")\n",
        "else:\n",
        "  print(\"Grade: F\")"
      ],
      "metadata": {
        "colab": {
          "base_uri": "https://localhost:8080/"
        },
        "id": "mxcTDfk25Xyt",
        "outputId": "34da6476-87d5-4c82-8941-d8a7350d2ff4"
      },
      "execution_count": null,
      "outputs": [
        {
          "output_type": "stream",
          "name": "stdout",
          "text": [
            "Grade: A\n"
          ]
        }
      ]
    },
    {
      "cell_type": "code",
      "source": [
        "#Nested If statement\n",
        "num = int(input(\"Enter a number: \"))  #10, -1\n",
        "if num >= 0:\n",
        "  if num == 0:\n",
        "    print(\"Number is zero\")\n",
        "  else:\n",
        "    print(\"Number is positive\")\n",
        "else:\n",
        "  print(\"Number is negative\")"
      ],
      "metadata": {
        "colab": {
          "base_uri": "https://localhost:8080/"
        },
        "id": "ToW_4g8W5t_Y",
        "outputId": "b0680646-8e85-43ca-a165-655b24df7bac"
      },
      "execution_count": null,
      "outputs": [
        {
          "output_type": "stream",
          "name": "stdout",
          "text": [
            "Enter a number: -1\n",
            "Number is negative\n"
          ]
        }
      ]
    },
    {
      "cell_type": "code",
      "source": [
        "num = 12\n",
        "\n",
        "#[Conditions]\n",
        "if num > 7:\n",
        "  if num % 2 == 0:\n",
        "    print(f\"{num} number is greater than 5\") #Use f\"\" when you need to include variables inside a string\n",
        "  else:\n",
        "    print(f\"{num }Odd number is greater than 5\")\n"
      ],
      "metadata": {
        "colab": {
          "base_uri": "https://localhost:8080/"
        },
        "id": "CCQdA5D36KF0",
        "outputId": "79c0f2c9-9495-4263-f699-fc2e13a241ef"
      },
      "execution_count": 10,
      "outputs": [
        {
          "output_type": "stream",
          "name": "stdout",
          "text": [
            "12 number is greater than 5\n"
          ]
        }
      ]
    },
    {
      "cell_type": "code",
      "source": [
        "is_adult = True\n",
        "has_voter_id = False\n",
        "if is_adult and has_voter_id:\n",
        "  print(\"You are  eligible to vote\")\n",
        "else:\n",
        "  print(\"You are NOT eligible to vote\")"
      ],
      "metadata": {
        "id": "A1HoK-p47T1e",
        "colab": {
          "base_uri": "https://localhost:8080/"
        },
        "outputId": "6228421b-8a81-490e-f17c-1cef0ef71810"
      },
      "execution_count": 25,
      "outputs": [
        {
          "output_type": "stream",
          "name": "stdout",
          "text": [
            "You are  NOT eligible to vote\n"
          ]
        }
      ]
    },
    {
      "cell_type": "code",
      "source": [
        "#Ternary Operator\n",
        "#Shorthand way of writing the single if else statement\n",
        "age = 30\n",
        "message = \"Adult\" if age >=18 else \"Not Adult\"\n",
        "print(message)"
      ],
      "metadata": {
        "colab": {
          "base_uri": "https://localhost:8080/"
        },
        "id": "ld02tai-7soW",
        "outputId": "088b0373-36b1-4934-ed68-e0e933c84e5f"
      },
      "execution_count": null,
      "outputs": [
        {
          "output_type": "stream",
          "name": "stdout",
          "text": [
            "Adult\n"
          ]
        }
      ]
    },
    {
      "cell_type": "code",
      "source": [
        "#match-case statement\n",
        "#Traffic Signal\n",
        "color = input(\"Enter the color: \")\n",
        "color = color.lower()\n",
        "match color:\n",
        "  case 'red':\n",
        "    print(\"Stop\")\n",
        "  case \"yellow\":\n",
        "    print(\"Ready\")\n",
        "  case \"green\":\n",
        "    print(\"go\")\n",
        "  case _:\n",
        "    print(\"Invalid color\")\n"
      ],
      "metadata": {
        "colab": {
          "base_uri": "https://localhost:8080/"
        },
        "id": "NUv74nMT8Ch_",
        "outputId": "58a52417-803b-46a2-aa95-e50dce951afb"
      },
      "execution_count": 14,
      "outputs": [
        {
          "output_type": "stream",
          "name": "stdout",
          "text": [
            "Enter the color: yellow\n",
            "Ready\n"
          ]
        }
      ]
    },
    {
      "cell_type": "code",
      "source": [
        "#For Loop on list\n",
        "\n",
        "fruits = [\"Apple\", \"bananas\", \"Mango\"]\n",
        "for fruit in fruits:\n",
        "  print(fruit)"
      ],
      "metadata": {
        "colab": {
          "base_uri": "https://localhost:8080/"
        },
        "id": "5aZ7r4Iu9GfW",
        "outputId": "e1a42ec0-f8ae-49c0-a75c-2e71990984d0"
      },
      "execution_count": null,
      "outputs": [
        {
          "output_type": "stream",
          "name": "stdout",
          "text": [
            "Apple\n",
            "bananas\n",
            "Mango\n"
          ]
        }
      ]
    },
    {
      "cell_type": "code",
      "source": [
        "#For Loop on string\n",
        "fruits = \"Apple\"\n",
        "for fruit in fruits:\n",
        "  print(fruit)"
      ],
      "metadata": {
        "colab": {
          "base_uri": "https://localhost:8080/"
        },
        "id": "B9CVOw6c9mPo",
        "outputId": "a5c83c38-3ea1-416a-cf8d-8ad864c4f833"
      },
      "execution_count": null,
      "outputs": [
        {
          "output_type": "stream",
          "name": "stdout",
          "text": [
            "A\n",
            "p\n",
            "p\n",
            "l\n",
            "e\n"
          ]
        }
      ]
    },
    {
      "cell_type": "code",
      "source": [
        "#For Loop on Dictionary\n",
        "fruits = {\"Fruit\":\"Apple\", \"Car\":\"Suzuki\", \"City\":\"Tokyo\"}\n",
        "for key, value in fruits.items():\n",
        "  print(f\"{key}:{value}\")"
      ],
      "metadata": {
        "colab": {
          "base_uri": "https://localhost:8080/"
        },
        "id": "mY-TX4tW93XL",
        "outputId": "3747c0d2-8c79-4d87-daf7-4986347d4962"
      },
      "execution_count": null,
      "outputs": [
        {
          "output_type": "stream",
          "name": "stdout",
          "text": [
            "Fruit:Apple\n",
            "Car:Suzuki\n",
            "City:Tokyo\n"
          ]
        }
      ]
    },
    {
      "cell_type": "code",
      "source": [
        "#range\n",
        "for i in range(1, 11): #11 is not include in the output\n",
        "  print(i)"
      ],
      "metadata": {
        "colab": {
          "base_uri": "https://localhost:8080/"
        },
        "id": "txhHBl21-fCP",
        "outputId": "17c419ed-6fe4-49ef-f180-5510e7e8a5d0"
      },
      "execution_count": 15,
      "outputs": [
        {
          "output_type": "stream",
          "name": "stdout",
          "text": [
            "1\n",
            "2\n",
            "3\n",
            "4\n",
            "5\n",
            "6\n",
            "7\n",
            "8\n",
            "9\n",
            "10\n"
          ]
        }
      ]
    },
    {
      "cell_type": "code",
      "source": [
        "#While Loop\n",
        "count = 0;\n",
        "while count < 5:\n",
        "  print(f\"Count: {count}\")\n",
        "  count+=1"
      ],
      "metadata": {
        "colab": {
          "base_uri": "https://localhost:8080/"
        },
        "id": "3CRf5cJV-rML",
        "outputId": "d3c0744d-97b0-4e48-c3d4-80252ad07b39"
      },
      "execution_count": 17,
      "outputs": [
        {
          "output_type": "stream",
          "name": "stdout",
          "text": [
            "Count: 0\n",
            "Count: 1\n",
            "Count: 2\n",
            "Count: 3\n",
            "Count: 4\n"
          ]
        }
      ]
    },
    {
      "cell_type": "code",
      "source": [
        "#Run the loop infine times\n",
        "\n",
        "while True:\n",
        "  user_input = input(\"Enter the q letter to exit\")\n",
        "  if user_input == \"q\":\n",
        "    print(\"Exit the loop\")\n",
        "    break"
      ],
      "metadata": {
        "colab": {
          "base_uri": "https://localhost:8080/"
        },
        "id": "efAPA1PK_G6e",
        "outputId": "c584ee4a-75d7-4fb1-d6cb-251b5ec3d415"
      },
      "execution_count": null,
      "outputs": [
        {
          "output_type": "stream",
          "name": "stdout",
          "text": [
            "Enter the q letter to exitq\n",
            "Exit the loop\n"
          ]
        }
      ]
    },
    {
      "cell_type": "code",
      "source": [
        "for i in range(10):\n",
        "  if i == 5:\n",
        "    continue\n",
        "  print(i)"
      ],
      "metadata": {
        "id": "VkOSFO42_p6s",
        "colab": {
          "base_uri": "https://localhost:8080/"
        },
        "outputId": "360a4ac1-f729-483f-8f06-9396fae5fc66"
      },
      "execution_count": 18,
      "outputs": [
        {
          "output_type": "stream",
          "name": "stdout",
          "text": [
            "0\n",
            "1\n",
            "2\n",
            "3\n",
            "4\n",
            "6\n",
            "7\n",
            "8\n",
            "9\n"
          ]
        }
      ]
    },
    {
      "cell_type": "code",
      "source": [
        "#Loop inside Loop\n",
        "for i in range(3):\n",
        "  for j in range(2):\n",
        "    print(i, j)\n",
        "\n",
        "    # (0,0) (0,1)\n",
        "    # (1,0) (1,1)\n",
        "    # (2,0) (2,1)\n",
        "\n",
        "    #3x2 matrix"
      ],
      "metadata": {
        "colab": {
          "base_uri": "https://localhost:8080/"
        },
        "id": "qsX4X3CrAMNJ",
        "outputId": "f2fa267d-4c39-4799-f465-8911454eaa48"
      },
      "execution_count": null,
      "outputs": [
        {
          "output_type": "stream",
          "name": "stdout",
          "text": [
            "0 0\n",
            "0 1\n",
            "1 0\n",
            "1 1\n",
            "2 0\n",
            "2 1\n"
          ]
        }
      ]
    },
    {
      "cell_type": "code",
      "source": [
        "for i in range(1,6):  #outer loop\n",
        "  for j in range(1,11):  #inner loop\n",
        "    print(f\"{i} x {j} = {i * j}\")\n",
        "  print()"
      ],
      "metadata": {
        "colab": {
          "base_uri": "https://localhost:8080/"
        },
        "id": "NeT4PWFLAu7M",
        "outputId": "7a19b121-f692-4a71-c6af-02eb8fc5d09c"
      },
      "execution_count": null,
      "outputs": [
        {
          "output_type": "stream",
          "name": "stdout",
          "text": [
            "1 x 1 = 1\n",
            "1 x 2 = 2\n",
            "1 x 3 = 3\n",
            "1 x 4 = 4\n",
            "1 x 5 = 5\n",
            "1 x 6 = 6\n",
            "1 x 7 = 7\n",
            "1 x 8 = 8\n",
            "1 x 9 = 9\n",
            "1 x 10 = 10\n",
            "\n",
            "2 x 1 = 2\n",
            "2 x 2 = 4\n",
            "2 x 3 = 6\n",
            "2 x 4 = 8\n",
            "2 x 5 = 10\n",
            "2 x 6 = 12\n",
            "2 x 7 = 14\n",
            "2 x 8 = 16\n",
            "2 x 9 = 18\n",
            "2 x 10 = 20\n",
            "\n",
            "3 x 1 = 3\n",
            "3 x 2 = 6\n",
            "3 x 3 = 9\n",
            "3 x 4 = 12\n",
            "3 x 5 = 15\n",
            "3 x 6 = 18\n",
            "3 x 7 = 21\n",
            "3 x 8 = 24\n",
            "3 x 9 = 27\n",
            "3 x 10 = 30\n",
            "\n",
            "4 x 1 = 4\n",
            "4 x 2 = 8\n",
            "4 x 3 = 12\n",
            "4 x 4 = 16\n",
            "4 x 5 = 20\n",
            "4 x 6 = 24\n",
            "4 x 7 = 28\n",
            "4 x 8 = 32\n",
            "4 x 9 = 36\n",
            "4 x 10 = 40\n",
            "\n",
            "5 x 1 = 5\n",
            "5 x 2 = 10\n",
            "5 x 3 = 15\n",
            "5 x 4 = 20\n",
            "5 x 5 = 25\n",
            "5 x 6 = 30\n",
            "5 x 7 = 35\n",
            "5 x 8 = 40\n",
            "5 x 9 = 45\n",
            "5 x 10 = 50\n",
            "\n"
          ]
        }
      ]
    },
    {
      "cell_type": "code",
      "source": [
        "#Loop else statement\n",
        "for i in range(5):\n",
        "  print(i)\n",
        "else:\n",
        "  print(\"Loop completed\")"
      ],
      "metadata": {
        "colab": {
          "base_uri": "https://localhost:8080/"
        },
        "id": "5EY7kB5xBXyZ",
        "outputId": "26f4eaa6-1578-46e1-ce0f-7913e3190d7f"
      },
      "execution_count": null,
      "outputs": [
        {
          "output_type": "stream",
          "name": "stdout",
          "text": [
            "0\n",
            "1\n",
            "2\n",
            "3\n",
            "4\n",
            "Loop completed\n"
          ]
        }
      ]
    },
    {
      "cell_type": "code",
      "source": [
        "#Search Functionality\n",
        "num = [1,2,3,4,5]\n",
        "search = 7\n",
        "\n",
        "for nums in num:\n",
        "  if nums == search:\n",
        "    print(f\"Found {search}\")\n",
        "    break\n",
        "else:\n",
        "  print(f\"{search} number not found\")\n"
      ],
      "metadata": {
        "colab": {
          "base_uri": "https://localhost:8080/"
        },
        "id": "OMVXJDUZANz5",
        "outputId": "84c8e0d7-9c65-41fb-95bc-d408f9330fe0"
      },
      "execution_count": null,
      "outputs": [
        {
          "output_type": "stream",
          "name": "stdout",
          "text": [
            "7 number not found\n"
          ]
        }
      ]
    },
    {
      "cell_type": "code",
      "source": [
        "#Define Functions in Python Language\n",
        "def greet():\n",
        "  print(\"Hello, I am learning Python Language\")\n",
        "greet()"
      ],
      "metadata": {
        "colab": {
          "base_uri": "https://localhost:8080/"
        },
        "id": "2tuaAdOACNtv",
        "outputId": "993e90c4-823a-4a0c-d872-3a82f5e00631"
      },
      "execution_count": null,
      "outputs": [
        {
          "output_type": "stream",
          "name": "stdout",
          "text": [
            "Hello, I am learning Python Language\n"
          ]
        }
      ]
    },
    {
      "cell_type": "code",
      "source": [
        "def greet(name):\n",
        "  print(f\"Hello, {name} is learning Python Language\")\n",
        "greet(\"Kainat\")"
      ],
      "metadata": {
        "colab": {
          "base_uri": "https://localhost:8080/"
        },
        "id": "6cQrnax3CiIK",
        "outputId": "afa83fb6-4d03-4e6a-de00-985171d44963"
      },
      "execution_count": 21,
      "outputs": [
        {
          "output_type": "stream",
          "name": "stdout",
          "text": [
            "Hello, Kainat is learning Python Language\n"
          ]
        }
      ]
    },
    {
      "cell_type": "code",
      "source": [
        "# def add(a,b):\n",
        "#   return a+b\n",
        "# print(add(3,5))\n",
        "\n",
        "def display_info(name, age = 31):\n",
        "  print(f\" Name:{name}, Age:{age}\")\n",
        "display_info(name = \"Kainat\", age =  22)"
      ],
      "metadata": {
        "colab": {
          "base_uri": "https://localhost:8080/"
        },
        "id": "3niVUYUAC_yg",
        "outputId": "4551fb73-9360-4119-8993-5b8b41aa8a47"
      },
      "execution_count": 20,
      "outputs": [
        {
          "output_type": "stream",
          "name": "stdout",
          "text": [
            " Name:Kainat, Age:22\n"
          ]
        }
      ]
    },
    {
      "cell_type": "code",
      "source": [
        "def my_function():\n",
        "  pass\n",
        "\n",
        "result = my_function()\n",
        "print(result)"
      ],
      "metadata": {
        "colab": {
          "base_uri": "https://localhost:8080/"
        },
        "id": "SdmHw_hCENbR",
        "outputId": "b1f3decc-e3c0-49b0-c520-223eb4f40083"
      },
      "execution_count": null,
      "outputs": [
        {
          "output_type": "stream",
          "name": "stdout",
          "text": [
            "None\n"
          ]
        }
      ]
    },
    {
      "cell_type": "code",
      "source": [
        "#Arbitrary Arguments\n",
        "\n",
        "def print_arg(*args):\n",
        "  for arg in args:\n",
        "    print(arg)\n",
        "print_arg(1,2,3,4,5)\n",
        "\n",
        "def print_kwargs(**kwargs):\n",
        "  for key, value in kwargs.items():\n",
        "    print(f\"{key}:{key}\")\n",
        "print_kwargs(name=\"Kainat\", age=22)"
      ],
      "metadata": {
        "colab": {
          "base_uri": "https://localhost:8080/"
        },
        "id": "Aot2WFR7Ecv2",
        "outputId": "74a9e02f-9f6a-4af9-8533-46f02d1c4638"
      },
      "execution_count": 24,
      "outputs": [
        {
          "output_type": "stream",
          "name": "stdout",
          "text": [
            "1\n",
            "2\n",
            "3\n",
            "4\n",
            "5\n",
            "name:name\n",
            "age:age\n"
          ]
        }
      ]
    },
    {
      "cell_type": "code",
      "source": [
        "#lambda Function\n",
        "#One liner function\n",
        "# difference between lamda and normal functions, lambda is for simple function doesnt includes complex functionality while def allows complex functionality\n",
        "\n",
        "square = lambda x: x**2\n",
        "print(square(5))   #x=5\n",
        "\n"
      ],
      "metadata": {
        "colab": {
          "base_uri": "https://localhost:8080/"
        },
        "id": "VZR3D-LkFM2f",
        "outputId": "e0f39f6a-fd7c-43f6-fe77-0a4b350712a4"
      },
      "execution_count": null,
      "outputs": [
        {
          "output_type": "stream",
          "name": "stdout",
          "text": [
            "25\n"
          ]
        }
      ]
    }
  ]
}