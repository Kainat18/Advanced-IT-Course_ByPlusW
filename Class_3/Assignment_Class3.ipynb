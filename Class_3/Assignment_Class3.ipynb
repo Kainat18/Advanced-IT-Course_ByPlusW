{
  "nbformat": 4,
  "nbformat_minor": 0,
  "metadata": {
    "colab": {
      "provenance": [],
      "toc_visible": true
    },
    "kernelspec": {
      "name": "python3",
      "display_name": "Python 3"
    },
    "language_info": {
      "name": "python"
    }
  },
  "cells": [
    {
      "cell_type": "code",
      "execution_count": 16,
      "metadata": {
        "colab": {
          "base_uri": "https://localhost:8080/"
        },
        "id": "sXfPZSE824ZV",
        "outputId": "c44b9001-b361-433f-8473-643c83cecb87"
      },
      "outputs": [
        {
          "output_type": "stream",
          "name": "stdout",
          "text": [
            "Learn japanese\n",
            "Learn python\n",
            "Learn python\n"
          ]
        }
      ],
      "source": [
        "#simple todo list\n",
        "tasks = []\n",
        "\n",
        "def add_task(task):\n",
        "  tasks.append(task)\n",
        "\n",
        "def remove_task(task):\n",
        "  if task in tasks:\n",
        "    tasks.remove(task)\n",
        "\n",
        "def view_tasks():\n",
        "  for task in tasks:\n",
        "    print(task)\n",
        "\n",
        "add_task(\"Learn japanese\")\n",
        "add_task(\"Learn python\")\n",
        "view_tasks()\n",
        "remove_task(\"Learn japanese\")\n",
        "view_tasks()"
      ]
    },
    {
      "cell_type": "code",
      "source": [
        "# Find Maximum and Minimum Values in a List\n",
        "\n",
        "def find_max_min(lst):\n",
        " max_no = lst[0]\n",
        " min_no = lst[0]\n",
        " for no in lst:\n",
        "   if(no > max_no):\n",
        "      max_no = no\n",
        "   if(no < min_no):\n",
        "     min_no = no\n",
        " return max_no , min_no\n",
        "\n",
        "numbers = [3, 9, 2, 8, 1]\n",
        "max_no, min_no = find_max_min(numbers)\n",
        "print(f\"Max: {max_no}, Min: {min_no}\")\n"
      ],
      "metadata": {
        "colab": {
          "base_uri": "https://localhost:8080/"
        },
        "id": "SqUEumXDvVSN",
        "outputId": "52176098-04f1-4fbd-c60c-b3354a192f58"
      },
      "execution_count": 21,
      "outputs": [
        {
          "output_type": "stream",
          "name": "stdout",
          "text": [
            "Max: 9, Min: 1\n"
          ]
        }
      ]
    },
    {
      "cell_type": "code",
      "source": [
        "# phone book using dictionaries\n",
        "phonebook = {}\n",
        "def add_contact(name, number):\n",
        " phonebook[name] = number\n",
        "\n",
        "def get_number(name):\n",
        " return phonebook.get(name, \"Contact not found\")\n",
        "\n",
        "add_contact(\"Alice\", \"1234567890\")\n",
        "add_contact(\"Bob\", \"9876543210\")\n",
        "print(get_number(\"Alice\"))"
      ],
      "metadata": {
        "colab": {
          "base_uri": "https://localhost:8080/"
        },
        "id": "XFaa4woX0T8h",
        "outputId": "15d49d3f-42a7-4e33-a912-0aad5bb78213"
      },
      "execution_count": 22,
      "outputs": [
        {
          "output_type": "stream",
          "name": "stdout",
          "text": [
            "1234567890\n"
          ]
        }
      ]
    },
    {
      "cell_type": "code",
      "source": [
        "# inventory\n",
        "\n",
        "\n",
        "\n",
        "inventory = {}\n",
        "\n",
        "def add_item(item, quantity):\n",
        " if item in inventory:\n",
        "  inventory[item] += quantity\n",
        " else:\n",
        "  inventory[item] = quantity\n",
        "\n",
        "def remove_item(item, quantity):\n",
        "\n",
        "  if item in inventory and inventory[item] >= quantity:\n",
        "    inventory[item] -= quantity\n",
        "\n",
        "  if inventory[item] == 0:\n",
        "    del inventory[item]\n",
        "  else:\n",
        "    print(f\"Insufficient quantity of {item}.\")\n",
        "\n",
        "def view_inventory():\n",
        " for item, quantity in inventory.items():\n",
        "  print(f\"{item}: {quantity}\")\n",
        "\n",
        "add_item(\"Apple\", 10)\n",
        "add_item(\"Banana\", 5)\n",
        "remove_item(\"Apple\", 3)\n",
        "view_inventory()"
      ],
      "metadata": {
        "colab": {
          "base_uri": "https://localhost:8080/"
        },
        "id": "PwUmaJ091iRx",
        "outputId": "16cd6a67-415b-465e-c0a0-f20e8e1979f4"
      },
      "execution_count": 24,
      "outputs": [
        {
          "output_type": "stream",
          "name": "stdout",
          "text": [
            "Insufficient quantity of Apple.\n",
            "Apple: 7\n",
            "Banana: 5\n"
          ]
        }
      ]
    },
    {
      "cell_type": "code",
      "source": [
        "def deposit(balance, amount):\n",
        " balance += amount\n",
        " print(f\"Deposited: {amount}. New balance: {balance}\")\n",
        " return balance # Return the updated balance\n",
        "\n",
        "def withdraw(balance, amount):\n",
        " if amount <= balance:\n",
        "  balance -= amount\n",
        "  print(f\"Withdrew: {amount}. New balance: {balance}\")\n",
        " else:\n",
        "   print(\"Insufficient funds\")\n",
        " return balance # Return the updated balance\n",
        "def check_balance(balance):\n",
        " print(f\"Current balance: {balance}\")\n",
        "\n",
        "balance = 2000 # Initial balance\n",
        "balance = deposit(balance, 500) # Deposit money\n",
        "balance = withdraw(balance, 200) # Withdraw money\n",
        "check_balance(balance)"
      ],
      "metadata": {
        "colab": {
          "base_uri": "https://localhost:8080/"
        },
        "id": "grDZ9Jqm2ml8",
        "outputId": "d182e3a8-1047-4e58-8419-7b3745e25cc6"
      },
      "execution_count": 31,
      "outputs": [
        {
          "output_type": "stream",
          "name": "stdout",
          "text": [
            "Deposited: 500. New balance: 2500\n",
            "Withdrew: 200. New balance: 2300\n",
            "Current balance: 2300\n"
          ]
        }
      ]
    }
  ]
}