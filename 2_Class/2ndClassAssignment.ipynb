{
  "nbformat": 4,
  "nbformat_minor": 0,
  "metadata": {
    "colab": {
      "provenance": []
    },
    "kernelspec": {
      "name": "python3",
      "display_name": "Python 3"
    },
    "language_info": {
      "name": "python"
    }
  },
  "cells": [
    {
      "cell_type": "code",
      "source": [
        "# comments for python\n",
        "#1. Name Formatter and Length Calculator\n",
        "\n",
        "first_name = input(\"enter first name: \")\n",
        "last_name = input(\"enter last name: \")\n"
      ],
      "metadata": {
        "colab": {
          "base_uri": "https://localhost:8080/"
        },
        "id": "96cA_MMT3Li5",
        "outputId": "8608fbe3-3e87-4c29-f3a6-35a05dbfff9b"
      },
      "execution_count": null,
      "outputs": [
        {
          "output_type": "stream",
          "name": "stdout",
          "text": [
            "enter first name: kainat\n",
            "enter last name: farooq\n",
            "My name is kainat farooq\n"
          ]
        }
      ]
    },
    {
      "cell_type": "code",
      "execution_count": null,
      "metadata": {
        "id": "3WHbw-nk2jnV",
        "colab": {
          "base_uri": "https://localhost:8080/"
        },
        "outputId": "1a017d84-4d1b-4378-cbea-dd552724dacb"
      },
      "outputs": [
        {
          "output_type": "stream",
          "name": "stdout",
          "text": [
            "KAINAT\n",
            "farooq\n"
          ]
        }
      ],
      "source": [
        "print(first_name.upper())\n",
        "print(last_name.lower())\n"
      ]
    },
    {
      "cell_type": "code",
      "source": [
        "total_letters = len(first_name) + len(last_name)\n",
        "\n",
        "\n",
        "print(f\"First name (upper): {first_name.upper()}\")\n",
        "print(f\"Last name (lower): {last_name.lower()}\")\n",
        "print(\"Sum of letters in your first and last name:\", total_letters)"
      ],
      "metadata": {
        "colab": {
          "base_uri": "https://localhost:8080/"
        },
        "id": "Xo06-TF4umRC",
        "outputId": "706101d7-0acd-4800-c5fa-1b88a17cade9"
      },
      "execution_count": null,
      "outputs": [
        {
          "output_type": "stream",
          "name": "stdout",
          "text": [
            "First name (upper): KAINAT\n",
            "Last name (lower): farooq\n",
            "Sum of letters in your first and last name: 12\n"
          ]
        }
      ]
    },
    {
      "cell_type": "code",
      "source": [
        "#2 Simple Area Calculator for various shapes\n",
        "print(\"Calculate the area of following shapes:\")\n",
        "print(\"1. Circle\")\n",
        "print(\"2. Rectangle\")\n",
        "print(\"3. Square\")\n",
        "print(\"4. Triangle\")\n",
        "shape = input(\"Find the area of : \")\n",
        "\n",
        "radius = float(input(\"Enter the radius of the circle: \"))\n",
        "area =  3.142 *  radius**2\n",
        "print(\"area of circle is\", area)\n"
      ],
      "metadata": {
        "colab": {
          "base_uri": "https://localhost:8080/"
        },
        "id": "UodgdHJxvPvX",
        "outputId": "14f5a4d6-efa1-452b-df71-21dee5a35f26"
      },
      "execution_count": null,
      "outputs": [
        {
          "output_type": "stream",
          "name": "stdout",
          "text": [
            "Calculate the area of following shapes:\n",
            "1. Circle\n",
            "2. Rectangle\n",
            "3. Square\n",
            "4. Triangle\n",
            "Find the area of : Circle\n",
            "Enter the radius of the circle: 3\n",
            "area of circle is 28.278\n"
          ]
        }
      ]
    },
    {
      "cell_type": "code",
      "source": [
        "print(\"Find area of Rectangle\")\n",
        "length = float(input(\"Enter length: \"))\n",
        "width = float(input(\"Enter width: \"))\n",
        "area = length * width\n",
        "\n",
        "print(\"Area of rectangle is\", {area})"
      ],
      "metadata": {
        "colab": {
          "base_uri": "https://localhost:8080/"
        },
        "id": "6EVmxFOA2E_f",
        "outputId": "8a16c37d-abb3-4314-dd9d-2cef9cde96fe"
      },
      "execution_count": null,
      "outputs": [
        {
          "output_type": "stream",
          "name": "stdout",
          "text": [
            "Find area of Rectangle\n",
            "Enter length: 3.2\n",
            "Enter width: 1.2\n",
            "Area of rectanle is {3.84}\n"
          ]
        }
      ]
    },
    {
      "cell_type": "code",
      "source": [
        "print(\"Find area of square\")\n",
        "side = float(input(\"Enter side: \"))\n",
        "area = side * side\n",
        "\n",
        "\n",
        "print(\"Area of square is\", area)"
      ],
      "metadata": {
        "colab": {
          "base_uri": "https://localhost:8080/"
        },
        "id": "PiIjp9gN2_4o",
        "outputId": "261407bf-d98a-4ca4-b254-3e6678af2700"
      },
      "execution_count": null,
      "outputs": [
        {
          "output_type": "stream",
          "name": "stdout",
          "text": [
            "Find area of square\n",
            "Enter side: 2\n",
            "Area of square is 4.0\n"
          ]
        }
      ]
    },
    {
      "cell_type": "code",
      "source": [
        "print(\"Find area of triangle\")\n",
        "breadth = float(input(\"Enter breadth: \"))\n",
        "height = float(input(\"Enter height: \"))\n",
        "area = 0.5 * breadth * height\n",
        "\n",
        "print(\"Area of triangle is\", area)"
      ],
      "metadata": {
        "colab": {
          "base_uri": "https://localhost:8080/"
        },
        "id": "v7Fx6BGA3xM5",
        "outputId": "70f89066-f919-43fd-f591-8b5d37340f9c"
      },
      "execution_count": 2,
      "outputs": [
        {
          "output_type": "stream",
          "name": "stdout",
          "text": [
            "Find area of triangle\n",
            "Enter breadth: 4\n",
            "Enter height: 5\n",
            "Area of triangle is 10.0\n"
          ]
        }
      ]
    },
    {
      "cell_type": "code",
      "source": [
        "# Random Color-Based Password Generator in Python\n",
        "import random\n",
        "\n",
        "colors = [\"red\", \"blue\", \"green\", \"yellow\", \"orange\", \"purple\"]\n",
        "\n",
        "index = random.randint(0, len(colors) - 1) # -1 bec index starts from 0 and in list we have 6 elements so 0 - 5\n",
        "\n",
        "selected_color = colors[index]\n",
        "\n",
        "#The slicing syntax [::-1] is used to reverse the string\n",
        "\n",
        "password = selected_color[::-1]\n",
        "print(\"Selected Color:\", selected_color)\n",
        "print(\"Generated Password:\", password)\n",
        "\n"
      ],
      "metadata": {
        "colab": {
          "base_uri": "https://localhost:8080/"
        },
        "id": "SJcHAYPB4Szd",
        "outputId": "1fcb630e-1b05-4612-959d-108396f841a7"
      },
      "execution_count": 1,
      "outputs": [
        {
          "output_type": "stream",
          "name": "stdout",
          "text": [
            "Selected Color: orange\n",
            "Generated Password: egnaro\n"
          ]
        }
      ]
    }
  ]
}