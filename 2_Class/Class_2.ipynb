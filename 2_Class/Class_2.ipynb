{
  "nbformat": 4,
  "nbformat_minor": 0,
  "metadata": {
    "colab": {
      "provenance": []
    },
    "kernelspec": {
      "name": "python3",
      "display_name": "Python 3"
    },
    "language_info": {
      "name": "python"
    }
  },
  "cells": [
    {
      "cell_type": "code",
      "execution_count": null,
      "metadata": {
        "colab": {
          "base_uri": "https://localhost:8080/",
          "height": 106
        },
        "id": "cE97ZZ17vkMm",
        "outputId": "4530b22f-dfa6-4ebe-ef36-8e9fd67e0152"
      },
      "outputs": [
        {
          "output_type": "error",
          "ename": "IndentationError",
          "evalue": "expected an indented block after 'if' statement on line 6 (<ipython-input-8-38b10f43eabe>, line 7)",
          "traceback": [
            "\u001b[0;36m  File \u001b[0;32m\"<ipython-input-8-38b10f43eabe>\"\u001b[0;36m, line \u001b[0;32m7\u001b[0m\n\u001b[0;31m    print(\"This is my second class of Python language\")\u001b[0m\n\u001b[0m    ^\u001b[0m\n\u001b[0;31mIndentationError\u001b[0m\u001b[0;31m:\u001b[0m expected an indented block after 'if' statement on line 6\n"
          ]
        }
      ],
      "source": [
        "#indentation\n",
        "if True:\n",
        "  print(\"This is my second class of Python language\")\n",
        "\n",
        "#comments\n",
        "if True:\n",
        "print(\"This is my second class of Python language\")"
      ]
    },
    {
      "cell_type": "code",
      "source": [
        "#variables and constants\n",
        "name = 'Umair' #both single and double quotes is fine\n",
        "age = 26\n",
        "\n",
        "PI = 3.14159 #contsant\n",
        "\n",
        "print(\"My name is\", name)\n",
        "print(\"My age is\", age)\n",
        "\n",
        "print(PI)"
      ],
      "metadata": {
        "colab": {
          "base_uri": "https://localhost:8080/"
        },
        "id": "M-41aGqZ4n1w",
        "outputId": "777c5baf-f350-43bd-964f-55ed361d1427"
      },
      "execution_count": null,
      "outputs": [
        {
          "output_type": "stream",
          "name": "stdout",
          "text": [
            "My name is Umair\n",
            "My age is 26\n",
            "3.14159\n"
          ]
        }
      ]
    },
    {
      "cell_type": "code",
      "source": [
        "#input and output fnctions\n",
        "name = input(\"Enter your name: \")  #input function\n",
        "print(\"My name is\", name)  #output function\n",
        "\n",
        "print(type(name))"
      ],
      "metadata": {
        "colab": {
          "base_uri": "https://localhost:8080/"
        },
        "id": "6UTjakT15w2i",
        "outputId": "b3f6271e-dd66-48bb-d5d0-41a2dc5e343e"
      },
      "execution_count": null,
      "outputs": [
        {
          "output_type": "stream",
          "name": "stdout",
          "text": [
            "Enter your name: kainat\n",
            "My name is kainat\n",
            "<class 'str'>\n"
          ]
        }
      ]
    },
    {
      "cell_type": "code",
      "source": [
        "#Primitive Data type\n",
        "x = 10 #integer\n",
        "y = 10.01\n",
        "z = 4 + 3j\n",
        "\n",
        "print(\"Real number is,\", z.real)\n",
        "print(\"Imaginary number\", z.imag)"
      ],
      "metadata": {
        "colab": {
          "base_uri": "https://localhost:8080/"
        },
        "id": "w_8eicf66RSA",
        "outputId": "080b4852-51c3-4633-b6e4-ed5f4b5e4225"
      },
      "execution_count": null,
      "outputs": [
        {
          "output_type": "stream",
          "name": "stdout",
          "text": [
            "Real number is, 4.0\n",
            "Imaginary number 3.0\n"
          ]
        }
      ]
    },
    {
      "cell_type": "code",
      "source": [
        "#string\n",
        "\n",
        "sentence = \"This is my second class of Python programming\"\n",
        "print(\"First letter:\", sentence[0])\n",
        "print(\"Here is\", sentence[-15])\n",
        "\n",
        "\n",
        "greeting = \"Python \" + \"language\"\n",
        "print(greeting)\n",
        "\n",
        "repeat = \"Python\" * 3\n",
        "print(repeat)\n",
        "\n",
        "print(\"Sliced string:\", sentence[0:4])\n",
        "\n",
        "print(\"Sliced string:\", sentence[0:23])\n",
        "\n",
        "print(\"Lower case\", sentence.lower())\n",
        "print(\"Upper case\", sentence.upper())\n",
        "\n",
        "print(\"replace\", sentence.replace(\"Python\", \"C++\"))"
      ],
      "metadata": {
        "colab": {
          "base_uri": "https://localhost:8080/"
        },
        "id": "QRNwbqi8648X",
        "outputId": "505f58ce-f9fc-4420-fa9c-1ba3b36926fc"
      },
      "execution_count": null,
      "outputs": [
        {
          "output_type": "stream",
          "name": "stdout",
          "text": [
            "First letter: T\n",
            "Here is h\n",
            "Python language\n",
            "PythonPythonPython\n",
            "Sliced string: This\n",
            "Sliced string: This is my second class\n",
            "Lower case this is my second class of python programming\n",
            "Upper case THIS IS MY SECOND CLASS OF PYTHON PROGRAMMING\n",
            "replace This is my second class of C++ programming\n"
          ]
        }
      ]
    },
    {
      "cell_type": "code",
      "source": [
        "#Collect data Types\n",
        "\n",
        "#List\n",
        "numbers = [1,2,3,4,5]\n",
        "\n",
        "numbers.append(6)\n",
        "\n",
        "print(numbers)\n",
        "\n",
        "#List slicing\n",
        "numbers[:3]  #0,1,2 indices"
      ],
      "metadata": {
        "colab": {
          "base_uri": "https://localhost:8080/"
        },
        "id": "RJv-8Lnd7ejr",
        "outputId": "d5648266-6231-489b-d493-65f455a6548b"
      },
      "execution_count": null,
      "outputs": [
        {
          "output_type": "stream",
          "name": "stdout",
          "text": [
            "[1, 2, 3, 4, 5, 6]\n"
          ]
        },
        {
          "output_type": "execute_result",
          "data": {
            "text/plain": [
              "[1, 2, 3]"
            ]
          },
          "metadata": {},
          "execution_count": 77
        }
      ]
    },
    {
      "cell_type": "code",
      "source": [
        "#tuples\n",
        "\n",
        "numbers = (1,2,3,4,5)\n",
        "\n",
        "print(numbers)"
      ],
      "metadata": {
        "id": "MzpyAnKt9qeI",
        "colab": {
          "base_uri": "https://localhost:8080/"
        },
        "outputId": "c1ecf01c-4878-4ed4-8a37-f3bb28112b38"
      },
      "execution_count": null,
      "outputs": [
        {
          "output_type": "stream",
          "name": "stdout",
          "text": [
            "(1, 2, 3, 4, 5)\n"
          ]
        }
      ]
    },
    {
      "cell_type": "code",
      "source": [
        "#Sets\n",
        "numbers = {1,2,3,4,5}\n",
        "\n",
        "numbers.add(5)\n",
        "\n",
        "print(numbers)"
      ],
      "metadata": {
        "colab": {
          "base_uri": "https://localhost:8080/"
        },
        "id": "nn2dmHNk92p4",
        "outputId": "90b9142b-8258-4a91-c287-f42fc84ed59b"
      },
      "execution_count": null,
      "outputs": [
        {
          "output_type": "stream",
          "name": "stdout",
          "text": [
            "{1, 2, 3, 4, 5}\n"
          ]
        }
      ]
    },
    {
      "cell_type": "code",
      "source": [
        "#Dictionary\n",
        "\n",
        "student = {\"name\": \"AMMARA\"}  #key value pair\n",
        "\n",
        "student['name'] = \"hammad\"\n",
        "print(student)\n",
        "\n",
        "student['age'] = 26\n",
        "print(student)"
      ],
      "metadata": {
        "colab": {
          "base_uri": "https://localhost:8080/"
        },
        "id": "pf2tPOal-FI0",
        "outputId": "38821a98-6205-4d84-93e6-ec58ba88ff9e"
      },
      "execution_count": 1,
      "outputs": [
        {
          "output_type": "stream",
          "name": "stdout",
          "text": [
            "{'name': 'hammad'}\n",
            "{'name': 'hammad', 'age': 26}\n"
          ]
        }
      ]
    },
    {
      "cell_type": "code",
      "source": [
        "#Implicit conversion\n",
        "num1 = 10\n",
        "num2 = 10.01\n",
        "\n",
        "result  = num1 + num2\n",
        "\n",
        "print(result)\n",
        "print(type(result))\n",
        "\n"
      ],
      "metadata": {
        "colab": {
          "base_uri": "https://localhost:8080/"
        },
        "id": "rYeVz0iX-yiA",
        "outputId": "7e0900cc-32b6-4108-ed05-c51218696d6b"
      },
      "execution_count": null,
      "outputs": [
        {
          "output_type": "stream",
          "name": "stdout",
          "text": [
            "20.009999999999998\n",
            "<class 'float'>\n"
          ]
        }
      ]
    },
    {
      "cell_type": "code",
      "source": [
        "#Explicit conversion\n",
        "\n",
        "age = \"26\"\n",
        "integer = 10\n",
        "\n",
        "age = int(age)\n",
        "# integer = str(integer)\n",
        "# float(age)\n",
        "\n",
        "print(type(age))\n",
        "\n",
        "result = age + integer\n",
        "\n",
        "print(result)\n",
        "\n",
        "\n"
      ],
      "metadata": {
        "colab": {
          "base_uri": "https://localhost:8080/"
        },
        "id": "SFVw2LnD_MPk",
        "outputId": "abf4e90e-bb7c-486e-ec46-6c8f1c90eacd"
      },
      "execution_count": null,
      "outputs": [
        {
          "output_type": "stream",
          "name": "stdout",
          "text": [
            "<class 'int'>\n",
            "36\n"
          ]
        }
      ]
    },
    {
      "cell_type": "code",
      "source": [
        "#Operators\n",
        "\n",
        "#Arithmatic Operators\n",
        "\n",
        "num1 = 10\n",
        "num2 = 4\n",
        "\n",
        "print(\"Addition:\", num1 + num2)\n",
        "print(\"Subtraction:\", num1 - num2)\n",
        "print(\"Multiplication:\", num1 * num2)\n",
        "print(\"Division:\", num1 / num2)\n",
        "print(\"Floor Division\", num1 // num2)\n",
        "print(\"Modulus\", num1 % num2)\n",
        "print(\"Exponent\", num1 ** num2)   #num1 ^ number"
      ],
      "metadata": {
        "colab": {
          "base_uri": "https://localhost:8080/"
        },
        "id": "4musX8jg_95m",
        "outputId": "63d93354-2bd6-40e2-d13b-6256c3e538ab"
      },
      "execution_count": null,
      "outputs": [
        {
          "output_type": "stream",
          "name": "stdout",
          "text": [
            "Addition: 14\n",
            "Subtraction: 6\n",
            "Multiplication: 40\n",
            "Division: 2.5\n",
            "Floor Division 2\n",
            "Modulus 2\n",
            "Exponent 10000\n"
          ]
        }
      ]
    },
    {
      "cell_type": "code",
      "source": [
        "#Comparison Operation\n",
        "\n",
        "num1 = 10\n",
        "num2 = 4\n",
        "\n",
        "print(\"Equal\", num1 == num2)\n",
        "print(\"Not Equal\", num1 != num2)\n",
        "print(\"Greater than\", num1 > num2)\n",
        "print(\"Less than\", num1 < num2)\n",
        "# print(\"Floor Division\", num1 // num2)\n",
        "# print(\"Modulus\", num1 % num2)\n",
        "# print(\"Exponent\", num1 ** num2)"
      ],
      "metadata": {
        "colab": {
          "base_uri": "https://localhost:8080/"
        },
        "id": "BriRnRBEAiLA",
        "outputId": "58790339-5d0d-4bb7-877d-578f421d8b7f"
      },
      "execution_count": null,
      "outputs": [
        {
          "output_type": "stream",
          "name": "stdout",
          "text": [
            "Equal False\n",
            "Not Equal True\n",
            "Greater than True\n",
            "Less than False\n"
          ]
        }
      ]
    },
    {
      "cell_type": "code",
      "source": [
        "#Logical Operators\n",
        "p = True\n",
        "q= False\n",
        "\n",
        "print(\"AND\", p and q)\n",
        "print(\"OR\", p or q)\n",
        "print(\"NOT\", not p)"
      ],
      "metadata": {
        "colab": {
          "base_uri": "https://localhost:8080/"
        },
        "id": "HutdkDvoA7bX",
        "outputId": "1c8e532d-d00d-40e4-b72d-76e4edd920e6"
      },
      "execution_count": null,
      "outputs": [
        {
          "output_type": "stream",
          "name": "stdout",
          "text": [
            "AND False\n",
            "OR True\n",
            "NOT False\n"
          ]
        }
      ]
    },
    {
      "cell_type": "code",
      "source": [
        "#Assignment Operators\n",
        "a=10\n",
        "a+=5 #a=a+5\n",
        "a-=5 #a=a-5\n",
        "a*=5 #a=a*5\n",
        "a/=5 #a=a/5\n",
        "print(a)"
      ],
      "metadata": {
        "colab": {
          "base_uri": "https://localhost:8080/"
        },
        "id": "979ZbTAjBNkH",
        "outputId": "c0f2348d-2a3d-41ce-8687-4b8283440fa0"
      },
      "execution_count": null,
      "outputs": [
        {
          "output_type": "stream",
          "name": "stdout",
          "text": [
            "10.0\n"
          ]
        }
      ]
    },
    {
      "cell_type": "code",
      "source": [
        "#length Function\n",
        "sentence = \"Python\"\n",
        "print(len(sentence))"
      ],
      "metadata": {
        "colab": {
          "base_uri": "https://localhost:8080/"
        },
        "id": "mO3FvRpmBjcI",
        "outputId": "bdf4d6c0-9ef1-4d3b-b8c5-7e1839173098"
      },
      "execution_count": null,
      "outputs": [
        {
          "output_type": "stream",
          "name": "stdout",
          "text": [
            "6\n"
          ]
        }
      ]
    },
    {
      "cell_type": "code",
      "source": [
        "#split function\n",
        "sentence = \"Python:language\"\n",
        "print(sentence.split(':'))"
      ],
      "metadata": {
        "colab": {
          "base_uri": "https://localhost:8080/"
        },
        "id": "-RksmZ5zB1e6",
        "outputId": "d5439b86-bd6f-40df-e89e-7ccdd01b20e0"
      },
      "execution_count": null,
      "outputs": [
        {
          "output_type": "stream",
          "name": "stdout",
          "text": [
            "['Python', 'language']\n"
          ]
        }
      ]
    },
    {
      "cell_type": "code",
      "source": [
        "#random function\n",
        "import random\n",
        "print(random.randint(1,10))\n",
        "\n",
        "print(random.random())\n",
        "\n",
        "print(random.randint(1,10))\n",
        "\n",
        "items = ['Apple', \"Bananas\"]\n",
        "\n",
        "print(random.choice(items))\n",
        "\n",
        "\n"
      ],
      "metadata": {
        "colab": {
          "base_uri": "https://localhost:8080/"
        },
        "id": "lHBkjOtvCM21",
        "outputId": "a2dbd0d6-cca6-433b-cd90-632222724ba6"
      },
      "execution_count": null,
      "outputs": [
        {
          "output_type": "stream",
          "name": "stdout",
          "text": [
            "5\n",
            "0.4209270834623484\n",
            "8\n",
            "Apple\n"
          ]
        }
      ]
    }
  ]
}